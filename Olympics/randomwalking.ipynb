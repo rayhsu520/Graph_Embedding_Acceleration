{
 "cells": [
  {
   "cell_type": "code",
   "execution_count": 13,
   "metadata": {},
   "outputs": [],
   "source": [
    "import pandas as pd\n",
    "import numpy as np\n",
    "import collections\n",
    "import networkx as nx\n",
    "import matplotlib.pyplot as plt\n",
    "from seaborn import color_palette, set_style, palplot\n",
    "import random"
   ]
  },
  {
   "cell_type": "code",
   "execution_count": 2,
   "metadata": {},
   "outputs": [
    {
     "name": "stdout",
     "output_type": "stream",
     "text": [
      "There are in total 5 communities\n"
     ]
    }
   ],
   "source": [
    "f=open(\"communities\", \"r\")\n",
    "f1 = f.readlines()\n",
    "\n",
    "#construct community dictionary, each user -> community\n",
    "community_dict = {}\n",
    "communities = set()\n",
    "for line in f1:\n",
    "    community , ids = line.split(':')\n",
    "    communities.add(community)\n",
    "    ids = ids.strip('\\n')\n",
    "    ids = list(int(x) for x in ids.split(','))\n",
    "    for id_ in ids:\n",
    "        community_dict[id_] = community\n",
    "\n",
    "print(\"There are in total {} communities\".format(len(communities)))"
   ]
  },
  {
   "cell_type": "code",
   "execution_count": 3,
   "metadata": {},
   "outputs": [],
   "source": [
    "f = open(\"list.features\", \"r\")\n",
    "f1 = f.readlines()\n",
    "\n",
    "#construct list.feature dictionary list_id -> feature\n",
    "list_dict = {}\n",
    "\n",
    "for i, feature in enumerate(f1):\n",
    "    list_dict[i] = feature"
   ]
  },
  {
   "cell_type": "code",
   "execution_count": 6,
   "metadata": {},
   "outputs": [],
   "source": [
    "#construct a commuity graph (undirected-graph) \n",
    "user_feature_graph = nx.Graph()\n",
    "\n",
    "f = open(\"lists-to-community.txt\", \"r\")\n",
    "f1 = f.readlines()\n",
    "\n",
    "for line in f1:\n",
    "    node1, node2 = line.split(' ')\n",
    "    node1, node2 = int(node1) , int(node2)\n",
    "    user_feature_graph.add_edge(node1, node2)\n",
    "    \n",
    "#graph with community and its features"
   ]
  },
  {
   "cell_type": "raw",
   "metadata": {},
   "source": [
    "Up to here:\n",
    "\n",
    "community_dict = {community_user_id : community (str)}\n",
    "list_map = {list_feature_id : feature(str)}\n",
    "user_feature_graph is the whole graph containing all the nodes (community users and list features)"
   ]
  },
  {
   "cell_type": "code",
   "execution_count": 11,
   "metadata": {},
   "outputs": [],
   "source": [
    "#see how to implement it here:\n",
    "#https://www.analyticsvidhya.com/blog/2019/11/graph-feature-extraction-deepwalk/\n",
    "#Just remember that I have to make sure it is a meta path of user -> feature -> user\n",
    "def get_randomwalk(node, path_length, G):\n",
    "    \n",
    "    random_walk = [node]\n",
    "    \n",
    "    for i in range(path_length-1):\n",
    "        temp = list(G.neighbors(node))\n",
    "        random_node = random.choice(temp)\n",
    "        random_walk.append(random_node)\n",
    "        node = random_node\n",
    "        \n",
    "    return random_walk"
   ]
  },
  {
   "cell_type": "code",
   "execution_count": 14,
   "metadata": {},
   "outputs": [
    {
     "name": "stdout",
     "output_type": "stream",
     "text": [
      "[[932446861, 1220, 903616850, 121, 78702900], [117449724, 68, 125312818, 562, 830775721], [550076077, 16, 326184301, 39, 19825835], [482866177, 51, 376161322, 49, 72883916], [397160160, 63, 255998767, 30, 269788397]]\n"
     ]
    }
   ],
   "source": [
    "#start random walk with meta-path\n",
    "random_walks = []\n",
    "path_length = 5\n",
    "for community_user in community_dict.keys():\n",
    "    random_walks.append(get_randomwalk(community_user, path_length, user_feature_graph))\n",
    "\n",
    "print(random_walks[:5])"
   ]
  },
  {
   "cell_type": "code",
   "execution_count": null,
   "metadata": {},
   "outputs": [],
   "source": []
  }
 ],
 "metadata": {
  "kernelspec": {
   "display_name": "Python 3",
   "language": "python",
   "name": "python3"
  },
  "language_info": {
   "codemirror_mode": {
    "name": "ipython",
    "version": 3
   },
   "file_extension": ".py",
   "mimetype": "text/x-python",
   "name": "python",
   "nbconvert_exporter": "python",
   "pygments_lexer": "ipython3",
   "version": "3.7.6"
  }
 },
 "nbformat": 4,
 "nbformat_minor": 2
}
